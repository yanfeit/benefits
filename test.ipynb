{
 "cells": [
  {
   "cell_type": "code",
   "execution_count": 2,
   "metadata": {},
   "outputs": [
    {
     "name": "stderr",
     "output_type": "stream",
     "text": [
      "2023-12-06 09:27:05,821 - app.log - INFO - Iteration Begins!\n",
      "2023-12-06 09:27:20,536 - app.log - WARNING - EXCEED THE MAXIMUM ITERATION NUMBERS!\n",
      "2023-12-06 09:27:20,538 - app.log - WARNING - Running time : 14.71650743484497\n"
     ]
    },
    {
     "name": "stdout",
     "output_type": "stream",
     "text": [
      "0.0017002012072434827\n",
      "0.0\n",
      "0.9996052849615162\n"
     ]
    }
   ],
   "source": [
    "%run traffic.py"
   ]
  },
  {
   "cell_type": "code",
   "execution_count": 3,
   "metadata": {},
   "outputs": [
    {
     "name": "stderr",
     "output_type": "stream",
     "text": [
      "2023-12-06 09:27:53,764 - app.log - INFO - Iteration Begins!\n",
      "2023-12-06 09:27:53,764 - app.log - INFO - Iteration Begins!\n",
      "2023-12-06 09:27:55,808 - app.log - INFO - Exit from gradient\n",
      "2023-12-06 09:27:55,808 - app.log - INFO - Exit from gradient\n",
      "2023-12-06 09:27:55,810 - app.log - INFO - Running time: 2.0418429374694824\n",
      "2023-12-06 09:27:55,810 - app.log - INFO - Running time: 2.0418429374694824\n",
      "2023-12-06 09:29:36,594 - app.log - INFO - Iteration Begins!\n",
      "2023-12-06 09:29:36,594 - app.log - INFO - Iteration Begins!\n",
      "2023-12-06 09:29:36,594 - app.log - INFO - Iteration Begins!\n",
      "2023-12-06 09:29:57,031 - app.log - WARNING - EXCEED THE MAXIMUM ITERATION NUMBERS!\n",
      "2023-12-06 09:29:57,031 - app.log - WARNING - EXCEED THE MAXIMUM ITERATION NUMBERS!\n",
      "2023-12-06 09:29:57,031 - app.log - WARNING - EXCEED THE MAXIMUM ITERATION NUMBERS!\n",
      "2023-12-06 09:29:57,035 - app.log - WARNING - Running time : 20.436190605163574\n",
      "2023-12-06 09:29:57,035 - app.log - WARNING - Running time : 20.436190605163574\n",
      "2023-12-06 09:29:57,035 - app.log - WARNING - Running time : 20.436190605163574\n",
      "2023-12-06 09:31:38,159 - app.log - INFO - Iteration Begins!\n",
      "2023-12-06 09:31:38,159 - app.log - INFO - Iteration Begins!\n",
      "2023-12-06 09:31:38,159 - app.log - INFO - Iteration Begins!\n",
      "2023-12-06 09:31:38,159 - app.log - INFO - Iteration Begins!\n",
      "2023-12-06 09:32:13,814 - app.log - WARNING - EXCEED THE MAXIMUM ITERATION NUMBERS!\n",
      "2023-12-06 09:32:13,814 - app.log - WARNING - EXCEED THE MAXIMUM ITERATION NUMBERS!\n",
      "2023-12-06 09:32:13,814 - app.log - WARNING - EXCEED THE MAXIMUM ITERATION NUMBERS!\n",
      "2023-12-06 09:32:13,814 - app.log - WARNING - EXCEED THE MAXIMUM ITERATION NUMBERS!\n",
      "2023-12-06 09:32:13,819 - app.log - WARNING - Running time : 35.65463590621948\n",
      "2023-12-06 09:32:13,819 - app.log - WARNING - Running time : 35.65463590621948\n",
      "2023-12-06 09:32:13,819 - app.log - WARNING - Running time : 35.65463590621948\n",
      "2023-12-06 09:32:13,819 - app.log - WARNING - Running time : 35.65463590621948\n",
      "2023-12-06 09:32:25,026 - app.log - INFO - Iteration Begins!\n",
      "2023-12-06 09:32:25,026 - app.log - INFO - Iteration Begins!\n",
      "2023-12-06 09:32:25,026 - app.log - INFO - Iteration Begins!\n",
      "2023-12-06 09:32:25,026 - app.log - INFO - Iteration Begins!\n",
      "2023-12-06 09:32:25,026 - app.log - INFO - Iteration Begins!\n",
      "2023-12-06 09:32:31,159 - app.log - INFO - Exit from gradient\n",
      "2023-12-06 09:32:31,159 - app.log - INFO - Exit from gradient\n",
      "2023-12-06 09:32:31,159 - app.log - INFO - Exit from gradient\n",
      "2023-12-06 09:32:31,159 - app.log - INFO - Exit from gradient\n",
      "2023-12-06 09:32:31,159 - app.log - INFO - Exit from gradient\n",
      "2023-12-06 09:32:31,163 - app.log - INFO - Running time: 6.128640174865723\n",
      "2023-12-06 09:32:31,163 - app.log - INFO - Running time: 6.128640174865723\n",
      "2023-12-06 09:32:31,163 - app.log - INFO - Running time: 6.128640174865723\n",
      "2023-12-06 09:32:31,163 - app.log - INFO - Running time: 6.128640174865723\n",
      "2023-12-06 09:32:31,163 - app.log - INFO - Running time: 6.128640174865723\n",
      "2023-12-06 09:34:12,720 - app.log - INFO - Iteration Begins!\n",
      "2023-12-06 09:34:12,720 - app.log - INFO - Iteration Begins!\n",
      "2023-12-06 09:34:12,720 - app.log - INFO - Iteration Begins!\n",
      "2023-12-06 09:34:12,720 - app.log - INFO - Iteration Begins!\n",
      "2023-12-06 09:34:12,720 - app.log - INFO - Iteration Begins!\n",
      "2023-12-06 09:34:12,720 - app.log - INFO - Iteration Begins!\n",
      "2023-12-06 09:34:16,995 - app.log - INFO - Exit from gradient\n",
      "2023-12-06 09:34:16,995 - app.log - INFO - Exit from gradient\n",
      "2023-12-06 09:34:16,995 - app.log - INFO - Exit from gradient\n",
      "2023-12-06 09:34:16,995 - app.log - INFO - Exit from gradient\n",
      "2023-12-06 09:34:16,995 - app.log - INFO - Exit from gradient\n",
      "2023-12-06 09:34:16,995 - app.log - INFO - Exit from gradient\n",
      "2023-12-06 09:34:17,000 - app.log - INFO - Running time: 4.2678680419921875\n",
      "2023-12-06 09:34:17,000 - app.log - INFO - Running time: 4.2678680419921875\n",
      "2023-12-06 09:34:17,000 - app.log - INFO - Running time: 4.2678680419921875\n",
      "2023-12-06 09:34:17,000 - app.log - INFO - Running time: 4.2678680419921875\n",
      "2023-12-06 09:34:17,000 - app.log - INFO - Running time: 4.2678680419921875\n",
      "2023-12-06 09:34:17,000 - app.log - INFO - Running time: 4.2678680419921875\n",
      "2023-12-06 09:34:29,189 - app.log - INFO - Iteration Begins!\n",
      "2023-12-06 09:34:29,189 - app.log - INFO - Iteration Begins!\n",
      "2023-12-06 09:34:29,189 - app.log - INFO - Iteration Begins!\n",
      "2023-12-06 09:34:29,189 - app.log - INFO - Iteration Begins!\n",
      "2023-12-06 09:34:29,189 - app.log - INFO - Iteration Begins!\n",
      "2023-12-06 09:34:29,189 - app.log - INFO - Iteration Begins!\n",
      "2023-12-06 09:34:29,189 - app.log - INFO - Iteration Begins!\n",
      "2023-12-06 09:34:37,798 - app.log - INFO - Exit from gradient\n",
      "2023-12-06 09:34:37,798 - app.log - INFO - Exit from gradient\n",
      "2023-12-06 09:34:37,798 - app.log - INFO - Exit from gradient\n",
      "2023-12-06 09:34:37,798 - app.log - INFO - Exit from gradient\n",
      "2023-12-06 09:34:37,798 - app.log - INFO - Exit from gradient\n",
      "2023-12-06 09:34:37,798 - app.log - INFO - Exit from gradient\n",
      "2023-12-06 09:34:37,798 - app.log - INFO - Exit from gradient\n",
      "2023-12-06 09:34:37,803 - app.log - INFO - Running time: 8.603352069854736\n",
      "2023-12-06 09:34:37,803 - app.log - INFO - Running time: 8.603352069854736\n",
      "2023-12-06 09:34:37,803 - app.log - INFO - Running time: 8.603352069854736\n",
      "2023-12-06 09:34:37,803 - app.log - INFO - Running time: 8.603352069854736\n",
      "2023-12-06 09:34:37,803 - app.log - INFO - Running time: 8.603352069854736\n",
      "2023-12-06 09:34:37,803 - app.log - INFO - Running time: 8.603352069854736\n",
      "2023-12-06 09:34:37,803 - app.log - INFO - Running time: 8.603352069854736\n"
     ]
    }
   ],
   "source": [
    "# Ns = [1000, 2000, 4000, 8000,  16000, 32000, 64000]\n",
    "Ns = [1000, 2000]\n",
    "Ms = [10, 20, 50]\n",
    "eps = 0.01\n",
    "\n",
    "dual_cons = []\n",
    "mip_cons = []\n",
    "opt = []\n",
    "\n",
    "for N in Ns:\n",
    "    for M in Ms:\n",
    "        para = TrafficPara(N, M, 0.01, 17)\n",
    "        model_dual = TrafficDual(para)\n",
    "        model_dual.optimize()\n",
    "        dual_cons.append([N, M, model_dual.checkAbsConstraint()])\n",
    "\n",
    "        model_mip  = TrafficMIP(para, maxseconds=100)\n",
    "        mip_cons.append([N, M, model_mip.checkAbsConstraint()])\n",
    "\n",
    "        q  = model_dual.objective_value\n",
    "        qs = model_mip.model.objective_value\n",
    "\n",
    "        opt.append([N, M, optimality(q, qs)])\n",
    "\n"
   ]
  },
  {
   "cell_type": "code",
   "execution_count": 7,
   "metadata": {},
   "outputs": [
    {
     "data": {
      "text/plain": [
       "[[1000, 10, 0.0007927246533405423],\n",
       " [1000, 20, 0.002611946712505363],\n",
       " [1000, 50, 0.0020795293162913387],\n",
       " [2000, 10, 0.0002750764645910202],\n",
       " [2000, 20, 0.0005571132392141323],\n",
       " [2000, 50, 0.0020905911837273907]]"
      ]
     },
     "execution_count": 7,
     "metadata": {},
     "output_type": "execute_result"
    }
   ],
   "source": [
    "dual_cons"
   ]
  },
  {
   "cell_type": "code",
   "execution_count": 8,
   "metadata": {},
   "outputs": [
    {
     "data": {
      "text/plain": [
       "[[1000, 10, 0.0],\n",
       " [1000, 20, 0.0],\n",
       " [1000, 50, 0.0],\n",
       " [2000, 10, 0.0],\n",
       " [2000, 20, 0.0],\n",
       " [2000, 50, 0.0]]"
      ]
     },
     "execution_count": 8,
     "metadata": {},
     "output_type": "execute_result"
    }
   ],
   "source": [
    "mip_cons"
   ]
  },
  {
   "cell_type": "code",
   "execution_count": 9,
   "metadata": {},
   "outputs": [
    {
     "data": {
      "text/plain": [
       "[[1000, 10, 0.9998352715083713],\n",
       " [1000, 20, 0.999924082530012],\n",
       " [1000, 50, 0.9999692776339557],\n",
       " [2000, 10, 0.9998231591930655],\n",
       " [2000, 20, 0.9999494930518706],\n",
       " [2000, 50, 0.9999844344970188]]"
      ]
     },
     "execution_count": 9,
     "metadata": {},
     "output_type": "execute_result"
    }
   ],
   "source": [
    "opt"
   ]
  },
  {
   "cell_type": "code",
   "execution_count": 10,
   "metadata": {},
   "outputs": [],
   "source": [
    "import pickle\n",
    "\n",
    "with open(\"data\", \"wb\") as fp:\n",
    "    pickle.dump(opt, fp)\n",
    "    pickle.dump(dual_cons, fp)\n",
    "    pickle.dump(mip_cons, fp)"
   ]
  },
  {
   "cell_type": "code",
   "execution_count": 11,
   "metadata": {},
   "outputs": [],
   "source": [
    "with open(\"data\", \"rb\") as fp:\n",
    "    test = pickle.load(fp)"
   ]
  },
  {
   "cell_type": "code",
   "execution_count": 12,
   "metadata": {},
   "outputs": [
    {
     "data": {
      "text/plain": [
       "[[1000, 10, 0.9998352715083713],\n",
       " [1000, 20, 0.999924082530012],\n",
       " [1000, 50, 0.9999692776339557],\n",
       " [2000, 10, 0.9998231591930655],\n",
       " [2000, 20, 0.9999494930518706],\n",
       " [2000, 50, 0.9999844344970188]]"
      ]
     },
     "execution_count": 12,
     "metadata": {},
     "output_type": "execute_result"
    }
   ],
   "source": [
    "test"
   ]
  },
  {
   "cell_type": "code",
   "execution_count": null,
   "metadata": {},
   "outputs": [],
   "source": [
    ">>> import json\n",
    ">>> with open(\"test\", \"w\") as fp:\n",
    "...     json.dump(l, fp)\n",
    "...\n",
    ">>> with open(\"test\", \"r\") as fp:\n",
    "...     b = json.load(fp)\n",
    "...\n",
    ">>> b\n",
    "[1, 2, 3, 4]"
   ]
  },
  {
   "cell_type": "code",
   "execution_count": 13,
   "metadata": {},
   "outputs": [
    {
     "ename": "TypeError",
     "evalue": "a bytes-like object is required, not 'str'",
     "output_type": "error",
     "traceback": [
      "\u001b[0;31m---------------------------------------------------------------------------\u001b[0m",
      "\u001b[0;31mTypeError\u001b[0m                                 Traceback (most recent call last)",
      "\u001b[0;32m<ipython-input-13-57caa7cf6396>\u001b[0m in \u001b[0;36m<module>\u001b[0;34m()\u001b[0m\n\u001b[1;32m      2\u001b[0m \u001b[0;34m\u001b[0m\u001b[0m\n\u001b[1;32m      3\u001b[0m \u001b[0;32mwith\u001b[0m \u001b[0mopen\u001b[0m\u001b[0;34m(\u001b[0m\u001b[0;34m\"data\"\u001b[0m\u001b[0;34m,\u001b[0m \u001b[0;34m\"wb\"\u001b[0m\u001b[0;34m)\u001b[0m \u001b[0;32mas\u001b[0m \u001b[0mfp\u001b[0m\u001b[0;34m:\u001b[0m\u001b[0;34m\u001b[0m\u001b[0m\n\u001b[0;32m----> 4\u001b[0;31m     \u001b[0mjson\u001b[0m\u001b[0;34m.\u001b[0m\u001b[0mdump\u001b[0m\u001b[0;34m(\u001b[0m\u001b[0mopt\u001b[0m\u001b[0;34m,\u001b[0m \u001b[0mfp\u001b[0m\u001b[0;34m)\u001b[0m\u001b[0;34m\u001b[0m\u001b[0m\n\u001b[0m\u001b[1;32m      5\u001b[0m     \u001b[0mjson\u001b[0m\u001b[0;34m.\u001b[0m\u001b[0mdump\u001b[0m\u001b[0;34m(\u001b[0m\u001b[0mdual_cons\u001b[0m\u001b[0;34m,\u001b[0m \u001b[0mfp\u001b[0m\u001b[0;34m)\u001b[0m\u001b[0;34m\u001b[0m\u001b[0m\n\u001b[1;32m      6\u001b[0m     \u001b[0mjson\u001b[0m\u001b[0;34m.\u001b[0m\u001b[0mdump\u001b[0m\u001b[0;34m(\u001b[0m\u001b[0mmip_cons\u001b[0m\u001b[0;34m,\u001b[0m \u001b[0mfp\u001b[0m\u001b[0;34m)\u001b[0m\u001b[0;34m\u001b[0m\u001b[0m\n",
      "\u001b[0;32m/home/common/software/anaconda3/lib/python3.6/json/__init__.py\u001b[0m in \u001b[0;36mdump\u001b[0;34m(obj, fp, skipkeys, ensure_ascii, check_circular, allow_nan, cls, indent, separators, default, sort_keys, **kw)\u001b[0m\n\u001b[1;32m    178\u001b[0m     \u001b[0;31m# a debuggability cost\u001b[0m\u001b[0;34m\u001b[0m\u001b[0;34m\u001b[0m\u001b[0m\n\u001b[1;32m    179\u001b[0m     \u001b[0;32mfor\u001b[0m \u001b[0mchunk\u001b[0m \u001b[0;32min\u001b[0m \u001b[0miterable\u001b[0m\u001b[0;34m:\u001b[0m\u001b[0;34m\u001b[0m\u001b[0m\n\u001b[0;32m--> 180\u001b[0;31m         \u001b[0mfp\u001b[0m\u001b[0;34m.\u001b[0m\u001b[0mwrite\u001b[0m\u001b[0;34m(\u001b[0m\u001b[0mchunk\u001b[0m\u001b[0;34m)\u001b[0m\u001b[0;34m\u001b[0m\u001b[0m\n\u001b[0m\u001b[1;32m    181\u001b[0m \u001b[0;34m\u001b[0m\u001b[0m\n\u001b[1;32m    182\u001b[0m \u001b[0;34m\u001b[0m\u001b[0m\n",
      "\u001b[0;31mTypeError\u001b[0m: a bytes-like object is required, not 'str'"
     ]
    }
   ],
   "source": [
    "import json \n",
    "\n",
    "with open(\"data\", \"wb\") as fp:\n",
    "    json.dump(opt, fp)\n",
    "    json.dump(dual_cons, fp)\n",
    "    json.dump(mip_cons, fp)"
   ]
  },
  {
   "cell_type": "code",
   "execution_count": 14,
   "metadata": {},
   "outputs": [
    {
     "data": {
      "text/plain": [
       "[[1000, 10, 0.9998352715083713],\n",
       " [1000, 20, 0.999924082530012],\n",
       " [1000, 50, 0.9999692776339557],\n",
       " [2000, 10, 0.9998231591930655],\n",
       " [2000, 20, 0.9999494930518706],\n",
       " [2000, 50, 0.9999844344970188]]"
      ]
     },
     "execution_count": 14,
     "metadata": {},
     "output_type": "execute_result"
    }
   ],
   "source": [
    "opt"
   ]
  },
  {
   "cell_type": "code",
   "execution_count": 15,
   "metadata": {},
   "outputs": [],
   "source": [
    "import json\n",
    "\n",
    "# Define your lists\n",
    "list1 = [[1, 2, 3], [4, 5, 6]]\n",
    "list2 = [[7, 8, 9], [10, 11, 12]]\n",
    "\n",
    "# Create a dictionary to store the lists\n",
    "data = {'list1': list1, 'list2': list2}\n",
    "\n",
    "# Open a file in write mode\n",
    "with open('lists.json', 'w') as file:\n",
    "    # Write the data into the file using json.dump()\n",
    "    json.dump(data, file)"
   ]
  },
  {
   "cell_type": "code",
   "execution_count": 16,
   "metadata": {},
   "outputs": [
    {
     "name": "stdout",
     "output_type": "stream",
     "text": [
      "[[1, 2, 3], [4, 5, 6]]\n",
      "[[7, 8, 9], [10, 11, 12]]\n"
     ]
    }
   ],
   "source": [
    "with open('lists.json', 'r') as file:\n",
    "    # Load the data from the file using json.load()\n",
    "    data = json.load(file)\n",
    "\n",
    "# Access the lists from the loaded data\n",
    "list1 = data['list1']\n",
    "list2 = data['list2']\n",
    "\n",
    "# Print the lists\n",
    "print(list1)\n",
    "print(list2)"
   ]
  },
  {
   "cell_type": "code",
   "execution_count": 17,
   "metadata": {},
   "outputs": [],
   "source": [
    "data = {\n",
    "    \"mip_cons\" : mip_cons,\n",
    "    \"dual_cons\" : dual_cons,\n",
    "    \"opt\" : opt\n",
    "    }"
   ]
  },
  {
   "cell_type": "code",
   "execution_count": 18,
   "metadata": {},
   "outputs": [],
   "source": [
    "with open('lists.json', 'w') as file:\n",
    "    # Write the data into the file using json.dump()\n",
    "    json.dump(data, file)"
   ]
  },
  {
   "cell_type": "code",
   "execution_count": 19,
   "metadata": {},
   "outputs": [
    {
     "name": "stdout",
     "output_type": "stream",
     "text": [
      "[[1000, 10, 0.0], [1000, 20, 0.0], [1000, 50, 0.0], [2000, 10, 0.0], [2000, 20, 0.0], [2000, 50, 0.0]]\n",
      "[[1000, 10, 0.0007927246533405423], [1000, 20, 0.002611946712505363], [1000, 50, 0.0020795293162913387], [2000, 10, 0.0002750764645910202], [2000, 20, 0.0005571132392141323], [2000, 50, 0.0020905911837273907]]\n",
      "[[1000, 10, 0.9998352715083713], [1000, 20, 0.999924082530012], [1000, 50, 0.9999692776339557], [2000, 10, 0.9998231591930655], [2000, 20, 0.9999494930518706], [2000, 50, 0.9999844344970188]]\n"
     ]
    }
   ],
   "source": [
    "with open('lists.json', 'r') as file:\n",
    "    # Load the data from the file using json.load()\n",
    "    data = json.load(file)\n",
    "\n",
    "# Access the lists from the loaded data\n",
    "list1 = data['mip_cons']\n",
    "list2 = data['dual_cons']\n",
    "list3 = data['opt']\n",
    "\n",
    "# Print the lists\n",
    "print(list1)\n",
    "print(list2)\n",
    "print(list3)"
   ]
  },
  {
   "cell_type": "markdown",
   "metadata": {},
   "source": [
    "N = 1000\n",
    "M = 10\n",
    "eps = 0.01"
   ]
  },
  {
   "cell_type": "code",
   "execution_count": 1,
   "metadata": {},
   "outputs": [
    {
     "name": "stderr",
     "output_type": "stream",
     "text": [
      "2023-12-06 13:53:15,899 - app.log - INFO - Iteration Begins!\n"
     ]
    },
    {
     "name": "stdout",
     "output_type": "stream",
     "text": [
      "Parameters: 1000 10\n",
      "\n"
     ]
    },
    {
     "name": "stderr",
     "output_type": "stream",
     "text": [
      "2023-12-06 13:53:17,928 - app.log - INFO - Exit from gradient\n",
      "2023-12-06 13:53:17,929 - app.log - INFO - Running time: 2.0283613204956055\n"
     ]
    },
    {
     "name": "stdout",
     "output_type": "stream",
     "text": [
      "['Dual', 1000, 10, 895.6431894937357, 0.0007927246533405423]\n"
     ]
    }
   ],
   "source": [
    "%run singlecase.py"
   ]
  },
  {
   "cell_type": "code",
   "execution_count": null,
   "metadata": {},
   "outputs": [],
   "source": [
    "python\n",
    "import argparse\n",
    "\n",
    "# Create the argument parser\n",
    "parser = argparse.ArgumentParser(description='Example argument parser')\n",
    "\n",
    "# Add the float argument\n",
    "parser.add_argument('-f', '--float', type=float, help='Input a float number')\n",
    "\n",
    "# Add the integer argument\n",
    "parser.add_argument('-i', '--integer', type=int, help='Input an integer number')\n",
    "\n",
    "# Parse the arguments\n",
    "args = parser.parse_args()\n",
    "\n",
    "# Access the float and integer values\n",
    "float_value = args.float\n",
    "integer_value = args.integer\n",
    "\n",
    "# Print the values\n",
    "print('Float value:', float_value)\n",
    "print('Integer value:', integer_value)"
   ]
  },
  {
   "cell_type": "code",
   "execution_count": null,
   "metadata": {},
   "outputs": [],
   "source": [
    "\n",
    "# Open the file in write mode\n",
    "file = open(\"example.txt\", \"w\")\n",
    "\n",
    "# Write content to the file\n",
    "file.write(\"Hello, world!\\n\")\n",
    "file.write(\"This is an example file.\\n\")\n",
    "file.write(\"Writing to a file in Python is easy.\\n\")\n",
    "\n",
    "# Close the file\n",
    "file.close()"
   ]
  }
 ],
 "metadata": {
  "kernelspec": {
   "display_name": "Python 3.6.5 ('base')",
   "language": "python",
   "name": "python3"
  },
  "language_info": {
   "codemirror_mode": {
    "name": "ipython",
    "version": 3
   },
   "file_extension": ".py",
   "mimetype": "text/x-python",
   "name": "python",
   "nbconvert_exporter": "python",
   "pygments_lexer": "ipython3",
   "version": "3.6.5"
  },
  "orig_nbformat": 4,
  "vscode": {
   "interpreter": {
    "hash": "065bec52470913bbbdf4a9d6605fab86c22525ce45f43c72b58f60a55ae15d0e"
   }
  }
 },
 "nbformat": 4,
 "nbformat_minor": 2
}
