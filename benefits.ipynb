{
 "cells": [
  {
   "cell_type": "code",
   "execution_count": 19,
   "metadata": {},
   "outputs": [],
   "source": [
    "import os\n",
    "import time\n",
    "\n",
    "import numpy as np\n",
    "import scipy as sp\n",
    "import bottleneck as bn\n",
    "\n",
    "import math\n",
    "import random\n",
    "\n",
    "import matplotlib.pyplot as plt\n",
    "from mpl_toolkits.mplot3d import Axes3D\n",
    "from matplotlib import cm\n",
    "from matplotlib.ticker import LinearLocator, FormatStrFormatter"
   ]
  },
  {
   "cell_type": "code",
   "execution_count": 4,
   "metadata": {},
   "outputs": [],
   "source": [
    "# randomize parameters \n",
    "N = 10\n",
    "M = 20\n",
    "\n",
    "# coupon's face value limits\n",
    "bj_min = 0.6   \n",
    "bj_max = 0.6 + (M-1) * 0.1\n",
    "\n",
    "bj = np.linspace(bj_min, bj_max, M)\n",
    "\n",
    "# sensitivity limits\n",
    "pij_low_min = 0.0\n",
    "pij_low_max = 0.4\n",
    "\n",
    "pij_hig_min = 0.6\n",
    "pij_hig_max = 0.99"
   ]
  },
  {
   "cell_type": "code",
   "execution_count": 7,
   "metadata": {},
   "outputs": [],
   "source": [
    "def linear_fun(x, x1, y1, x2, y2):\n",
    "    \"\"\"\n",
    "    linear function (x1, y1) and (x2, y2)\n",
    "    \"\"\"\n",
    "    slope = (y2 - y1) / (x2 - x1)\n",
    "\n",
    "    return slope * (x - x1) + y1"
   ]
  },
  {
   "cell_type": "code",
   "execution_count": 13,
   "metadata": {},
   "outputs": [],
   "source": [
    "def log_fun(x, x1, y1, x2, y2):\n",
    "    \"\"\"\n",
    "    logarithmic function (x1, y1) and (x2, y2)\n",
    "    \"\"\"\n",
    "    a = (y2 - y1) / (math.log(x2) - math.log(x1))\n",
    "    b = y1 - a * math.log(x1)\n",
    "\n",
    "    return a * np.log(x) + b"
   ]
  },
  {
   "cell_type": "code",
   "execution_count": null,
   "metadata": {},
   "outputs": [],
   "source": [
    "def describe_log_function(x1, y1, x2, y2):\n",
    "    # Calculate the constants a and b\n",
    "    a = (y2 - y1) / (math.log(x2) - math.log(x1))\n",
    "    b = y1 - a * np.log(x1)\n",
    "    \n",
    "    return a, b"
   ]
  },
  {
   "cell_type": "code",
   "execution_count": 15,
   "metadata": {},
   "outputs": [
    {
     "data": {
      "text/plain": [
       "[<matplotlib.lines.Line2D at 0x1e132996940>]"
      ]
     },
     "execution_count": 15,
     "metadata": {},
     "output_type": "execute_result"
    },
    {
     "data": {
      "image/png": "[encoded data removed]",
      "text/plain": [
       "<Figure size 432x288 with 1 Axes>"
      ]
     },
     "metadata": {
      "needs_background": "light"
     },
     "output_type": "display_data"
    }
   ],
   "source": [
    "p = log_fun(bj, bj_min, 0.2, bj_max, 0.8)\n",
    "\n",
    "plt.plot(bj, p)"
   ]
  },
  {
   "cell_type": "code",
   "execution_count": 20,
   "metadata": {},
   "outputs": [],
   "source": [
    "def mono_fun(x, x1, y1, x2, y2):\n",
    "    \"\"\"\n",
    "    construct a monotonoically increaseing function\n",
    "    between (x1, y1) and (x2, y2)\n",
    "    \"\"\"\n",
    "    funs = {\n",
    "        \"linear_fun\": linear_fun,\n",
    "        \"log_fun\": log_fun\n",
    "    }\n",
    "\n",
    "    rnd_name = random.choice(list(funs.keys()))\n",
    "    rnd_fun = funs[rnd_name]\n",
    "\n",
    "    return rnd_fun(x, x1, y1, x2, y2)"
   ]
  },
  {
   "cell_type": "code",
   "execution_count": 34,
   "metadata": {},
   "outputs": [
    {
     "data": {
      "image/png": "[encoded data removed]",
      "text/plain": [
       "<Figure size 432x288 with 1 Axes>"
      ]
     },
     "metadata": {
      "needs_background": "light"
     },
     "output_type": "display_data"
    }
   ],
   "source": [
    "pij = mono_fun(bj,  bj_min, 0.2, bj_max, 0.8)\n",
    "pij = noiser(pij, M, 0.01)\n",
    "\n",
    "plt.plot(bj, pij)\n",
    "\n",
    "\n",
    "plt.show()"
   ]
  },
  {
   "cell_type": "code",
   "execution_count": 32,
   "metadata": {},
   "outputs": [],
   "source": [
    "def noiser(x, n, std_dev):\n",
    "    \"\"\"\n",
    "    Add the noise to the function.\n",
    "    \"\"\"\n",
    "    return x + np.random.normal(0.0, std_dev, n)\n",
    "    \n"
   ]
  },
  {
   "cell_type": "code",
   "execution_count": null,
   "metadata": {},
   "outputs": [],
   "source": []
  }
 ],
 "metadata": {
  "kernelspec": {
   "display_name": "Python 3.9.12 ('base')",
   "language": "python",
   "name": "python3"
  },
  "language_info": {
   "codemirror_mode": {
    "name": "ipython",
    "version": 3
   },
   "file_extension": ".py",
   "mimetype": "text/x-python",
   "name": "python",
   "nbconvert_exporter": "python",
   "pygments_lexer": "ipython3",
   "version": "3.9.12"
  },
  "orig_nbformat": 4,
  "vscode": {
   "interpreter": {
    "hash": "ad2bdc8ecc057115af97d19610ffacc2b4e99fae6737bb82f5d7fb13d2f2c186"
   }
  }
 },
 "nbformat": 4,
 "nbformat_minor": 2
}
